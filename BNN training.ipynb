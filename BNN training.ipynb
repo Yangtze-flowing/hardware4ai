{
  "nbformat": 4,
  "nbformat_minor": 0,
  "metadata": {
    "colab": {
      "provenance": [],
      "gpuType": "T4",
      "authorship_tag": "ABX9TyMJesiITUVDui0EtUcUCCey",
      "include_colab_link": true
    },
    "kernelspec": {
      "name": "python3",
      "display_name": "Python 3"
    },
    "language_info": {
      "name": "python"
    },
    "accelerator": "GPU"
  },
  "cells": [
    {
      "cell_type": "markdown",
      "metadata": {
        "id": "view-in-github",
        "colab_type": "text"
      },
      "source": [
        "<a href=\"https://colab.research.google.com/github/Yangtze-flowing/hardware4ai/blob/main/BNN%20training.ipynb\" target=\"_parent\"><img src=\"https://colab.research.google.com/assets/colab-badge.svg\" alt=\"Open In Colab\"/></a>"
      ]
    },
    {
      "cell_type": "code",
      "execution_count": 1,
      "metadata": {
        "id": "tO3rjRgQq9EY"
      },
      "outputs": [],
      "source": [
        "# ✅ Step 1: Import Libraries\n",
        "import torch\n",
        "import torch.nn as nn\n",
        "import torchvision\n",
        "import torchvision.transforms as transforms\n",
        "import numpy as np\n",
        "import os\n",
        "import matplotlib.pyplot as plt"
      ]
    },
    {
      "cell_type": "code",
      "source": [
        "# ✅ Step 2: Load MNIST Dataset\n",
        "transform = transforms.Compose([\n",
        "    transforms.ToTensor(),\n",
        "    transforms.Lambda(lambda x: x.view(-1))\n",
        "])\n",
        "\n",
        "train_dataset = torchvision.datasets.MNIST(root='./data', train=True, download=True, transform=transform)\n",
        "test_dataset = torchvision.datasets.MNIST(root='./data', train=False, download=True, transform=transform)\n",
        "train_loader = torch.utils.data.DataLoader(train_dataset, batch_size=64, shuffle=True)\n",
        "test_loader = torch.utils.data.DataLoader(test_dataset, batch_size=1, shuffle=False)"
      ],
      "metadata": {
        "id": "tn95s9c4rS6B",
        "colab": {
          "base_uri": "https://localhost:8080/"
        },
        "outputId": "9ad72f31-7d57-4eef-8f91-a4e013c2bdc3"
      },
      "execution_count": 2,
      "outputs": [
        {
          "output_type": "stream",
          "name": "stderr",
          "text": [
            "100%|██████████| 9.91M/9.91M [00:00<00:00, 15.8MB/s]\n",
            "100%|██████████| 28.9k/28.9k [00:00<00:00, 474kB/s]\n",
            "100%|██████████| 1.65M/1.65M [00:00<00:00, 3.81MB/s]\n",
            "100%|██████████| 4.54k/4.54k [00:00<00:00, 7.32MB/s]\n"
          ]
        }
      ]
    },
    {
      "cell_type": "code",
      "source": [
        "# ✅ Step 3: Define BNN Model (with BN)\n",
        "class BNN(nn.Module):\n",
        "    def __init__(self):\n",
        "        super(BNN, self).__init__()\n",
        "        self.fc1 = nn.Linear(784, 256)\n",
        "        self.bn1 = nn.BatchNorm1d(256)  # ✅ 保留BN层\n",
        "        self.fc2 = nn.Linear(256, 10)\n",
        "\n",
        "    def forward(self, x):\n",
        "        x = torch.sign(self.bn1(self.fc1(x)))  # ✅ sign 作用于 BN 后\n",
        "        x = self.fc2(x)\n",
        "        return x\n",
        "\n",
        "device = torch.device(\"cuda\" if torch.cuda.is_available() else \"cpu\")\n",
        "model = BNN().to(device)\n"
      ],
      "metadata": {
        "id": "Mx3nBA83rgsk"
      },
      "execution_count": 3,
      "outputs": []
    },
    {
      "cell_type": "code",
      "source": [
        "import torch.optim as optim\n",
        "import time\n",
        "import os\n",
        "\n",
        "# ========== 目录设置 ==========\n",
        "EXPORT_DIR = \"exported_weights\"\n",
        "os.makedirs(EXPORT_DIR, exist_ok=True)\n",
        "\n",
        "# ========== 工具函数 ==========\n",
        "def binarize_and_export(weight_tensor, filename):\n",
        "    with open(os.path.join(EXPORT_DIR, filename), 'w') as f:\n",
        "        for row in weight_tensor:\n",
        "            binary = ((row.sign() + 1) / 2).int()  # +1 → 1, -1 → 0\n",
        "            bits = ''.join(str(b.item()) for b in binary)\n",
        "            f.write(bits + '\\n')\n",
        "\n",
        "def fold_bn_into_fc(fc, bn):\n",
        "    # 融合 FC + BN\n",
        "    w = fc.weight.data\n",
        "    b = fc.bias.data if fc.bias is not None else torch.zeros_like(bn.running_mean)\n",
        "    gamma = bn.weight.data\n",
        "    beta = bn.bias.data\n",
        "    mean = bn.running_mean\n",
        "    var = bn.running_var\n",
        "    eps = bn.eps\n",
        "    std = torch.sqrt(var + eps)\n",
        "    w_folded = w * (gamma / std).unsqueeze(1)\n",
        "    b_folded = (b - mean) / std * gamma + beta\n",
        "    return w_folded, b_folded\n",
        "\n",
        "# ========== 训练 ==========\n",
        "optimizer = optim.Adam(model.parameters(), lr=0.001)\n",
        "criterion = nn.CrossEntropyLoss()\n",
        "best_accuracy = 0.0\n",
        "\n",
        "for epoch in range(10):\n",
        "    model.train()\n",
        "    for images, labels in train_loader:\n",
        "        images, labels = images.to(device), labels.to(device)\n",
        "        optimizer.zero_grad()\n",
        "        outputs = model(images)\n",
        "        loss = criterion(outputs, labels)\n",
        "        loss.backward()\n",
        "        optimizer.step()\n",
        "\n",
        "    # 验证阶段\n",
        "    model.eval()\n",
        "    correct = 0\n",
        "    with torch.no_grad():\n",
        "        for images, labels in test_loader:\n",
        "            images, labels = images.to(device), labels.to(device)\n",
        "            outputs = model(images)\n",
        "            pred = outputs.argmax(dim=1)\n",
        "            correct += (pred == labels).sum().item()\n",
        "\n",
        "    accuracy = correct / len(test_dataset)\n",
        "    print(f\"Epoch {epoch+1}, Loss: {loss.item():.4f}, Accuracy: {accuracy*100:.2f}%\")\n",
        "\n",
        "    # 如果是最优，保存模型并导出权重\n",
        "    if accuracy > best_accuracy:\n",
        "        best_accuracy = accuracy\n",
        "        torch.save(model.state_dict(), \"best_bnn_model.pth\")\n",
        "        print(f\"✅ New best model saved with accuracy: {best_accuracy*100:.2f}%\")\n",
        "\n",
        "        # ✅ 融合 BN1 到 FC1\n",
        "        fc1_folded_w, _ = fold_bn_into_fc(model.fc1, model.bn1)\n",
        "\n",
        "        # ✅ 导出权重（注意：fc1 已融合）\n",
        "        binarize_and_export(fc1_folded_w, \"fc1_weights.mem\")\n",
        "        binarize_and_export(model.fc2.weight.data, \"fc2_weights.mem\")\n",
        "        print(\"📦 Exported folded weights to .mem files.\")\n"
      ],
      "metadata": {
        "colab": {
          "base_uri": "https://localhost:8080/"
        },
        "id": "z7q-D-cNsJuz",
        "outputId": "2366e9e8-4cb2-4815-8e65-2eed1a5d3a6d"
      },
      "execution_count": 4,
      "outputs": [
        {
          "output_type": "stream",
          "name": "stdout",
          "text": [
            "Epoch 1, Loss: 0.5188, Accuracy: 87.89%\n",
            "✅ New best model saved with accuracy: 87.89%\n",
            "📦 Exported folded weights to .mem files.\n",
            "Epoch 2, Loss: 0.1509, Accuracy: 88.34%\n",
            "✅ New best model saved with accuracy: 88.34%\n",
            "📦 Exported folded weights to .mem files.\n",
            "Epoch 3, Loss: 0.4888, Accuracy: 88.58%\n",
            "✅ New best model saved with accuracy: 88.58%\n",
            "📦 Exported folded weights to .mem files.\n",
            "Epoch 4, Loss: 0.1509, Accuracy: 88.72%\n",
            "✅ New best model saved with accuracy: 88.72%\n",
            "📦 Exported folded weights to .mem files.\n",
            "Epoch 5, Loss: 0.3994, Accuracy: 88.51%\n",
            "Epoch 6, Loss: 0.4070, Accuracy: 88.57%\n",
            "Epoch 7, Loss: 0.5393, Accuracy: 88.58%\n",
            "Epoch 8, Loss: 0.2217, Accuracy: 88.72%\n",
            "Epoch 9, Loss: 0.1700, Accuracy: 88.74%\n",
            "✅ New best model saved with accuracy: 88.74%\n",
            "📦 Exported folded weights to .mem files.\n",
            "Epoch 10, Loss: 0.5949, Accuracy: 88.56%\n"
          ]
        }
      ]
    },
    {
      "cell_type": "code",
      "source": [
        "import time  # ✅ 添加时间模块\n",
        "\n",
        "# ✅ Step 5: Test Accuracy with Timing\n",
        "model.eval()\n",
        "correct = 0\n",
        "\n",
        "start_time = time.time()  # ✅ 记录开始时间\n",
        "\n",
        "for images, labels in test_loader:\n",
        "    images, labels = images.to(device), labels.to(device)\n",
        "    outputs = model(images)\n",
        "    pred = outputs.argmax(dim=1)\n",
        "    correct += (pred == labels).sum().item()\n",
        "\n",
        "end_time = time.time()  # ✅ 记录结束时间\n",
        "total_time = end_time - start_time\n",
        "avg_time_per_image = total_time / len(test_dataset)\n",
        "\n",
        "print(f\"Test Accuracy: {correct / len(test_dataset) * 100:.2f}%\")\n",
        "print(f\"Total Inference Time: {total_time:.4f} seconds\")\n",
        "print(f\"Average Time per Image: {avg_time_per_image * 1000:.4f} ms\")\n"
      ],
      "metadata": {
        "colab": {
          "base_uri": "https://localhost:8080/"
        },
        "id": "xEnX6ApOsQOt",
        "outputId": "6eea2319-320f-4fc4-c9f6-7c55f50326b9"
      },
      "execution_count": 5,
      "outputs": [
        {
          "output_type": "stream",
          "name": "stdout",
          "text": [
            "Test Accuracy: 88.56%\n",
            "Total Inference Time: 6.9825 seconds\n",
            "Average Time per Image: 0.6982 ms\n"
          ]
        }
      ]
    }
  ]
}